{
 "cells": [
  {
   "cell_type": "code",
   "execution_count": 1,
   "metadata": {},
   "outputs": [],
   "source": [
    "import numpy as np\n",
    "import pandas as pd\n",
    "import matplotlib.pyplot as plt\n",
    "import seaborn as sns\n",
    "# import warnings"
   ]
  },
  {
   "cell_type": "code",
   "execution_count": 2,
   "metadata": {},
   "outputs": [],
   "source": [
    "# https://stackoverflow.com/questions/46173419/seaborn-change-bar-colour-according-to-hue-name"
   ]
  },
  {
   "cell_type": "code",
   "execution_count": 5,
   "metadata": {},
   "outputs": [
    {
     "ename": "FileNotFoundError",
     "evalue": "File b'data/insurance.csv' does not exist",
     "output_type": "error",
     "traceback": [
      "\u001b[0;31m---------------------------------------------------------------------------\u001b[0m",
      "\u001b[0;31mFileNotFoundError\u001b[0m                         Traceback (most recent call last)",
      "\u001b[0;32m<ipython-input-5-09b52365926a>\u001b[0m in \u001b[0;36m<module>\u001b[0;34m()\u001b[0m\n\u001b[0;32m----> 1\u001b[0;31m \u001b[0mdf\u001b[0m \u001b[0;34m=\u001b[0m \u001b[0mpd\u001b[0m\u001b[0;34m.\u001b[0m\u001b[0mread_csv\u001b[0m\u001b[0;34m(\u001b[0m\u001b[0;34m'data/insurance.csv'\u001b[0m\u001b[0;34m)\u001b[0m\u001b[0;34m\u001b[0m\u001b[0m\n\u001b[0m",
      "\u001b[0;32m~/anaconda3/lib/python3.6/site-packages/pandas/io/parsers.py\u001b[0m in \u001b[0;36mparser_f\u001b[0;34m(filepath_or_buffer, sep, delimiter, header, names, index_col, usecols, squeeze, prefix, mangle_dupe_cols, dtype, engine, converters, true_values, false_values, skipinitialspace, skiprows, nrows, na_values, keep_default_na, na_filter, verbose, skip_blank_lines, parse_dates, infer_datetime_format, keep_date_col, date_parser, dayfirst, iterator, chunksize, compression, thousands, decimal, lineterminator, quotechar, quoting, escapechar, comment, encoding, dialect, tupleize_cols, error_bad_lines, warn_bad_lines, skipfooter, doublequote, delim_whitespace, low_memory, memory_map, float_precision)\u001b[0m\n\u001b[1;32m    676\u001b[0m                     skip_blank_lines=skip_blank_lines)\n\u001b[1;32m    677\u001b[0m \u001b[0;34m\u001b[0m\u001b[0m\n\u001b[0;32m--> 678\u001b[0;31m         \u001b[0;32mreturn\u001b[0m \u001b[0m_read\u001b[0m\u001b[0;34m(\u001b[0m\u001b[0mfilepath_or_buffer\u001b[0m\u001b[0;34m,\u001b[0m \u001b[0mkwds\u001b[0m\u001b[0;34m)\u001b[0m\u001b[0;34m\u001b[0m\u001b[0m\n\u001b[0m\u001b[1;32m    679\u001b[0m \u001b[0;34m\u001b[0m\u001b[0m\n\u001b[1;32m    680\u001b[0m     \u001b[0mparser_f\u001b[0m\u001b[0;34m.\u001b[0m\u001b[0m__name__\u001b[0m \u001b[0;34m=\u001b[0m \u001b[0mname\u001b[0m\u001b[0;34m\u001b[0m\u001b[0m\n",
      "\u001b[0;32m~/anaconda3/lib/python3.6/site-packages/pandas/io/parsers.py\u001b[0m in \u001b[0;36m_read\u001b[0;34m(filepath_or_buffer, kwds)\u001b[0m\n\u001b[1;32m    438\u001b[0m \u001b[0;34m\u001b[0m\u001b[0m\n\u001b[1;32m    439\u001b[0m     \u001b[0;31m# Create the parser.\u001b[0m\u001b[0;34m\u001b[0m\u001b[0;34m\u001b[0m\u001b[0m\n\u001b[0;32m--> 440\u001b[0;31m     \u001b[0mparser\u001b[0m \u001b[0;34m=\u001b[0m \u001b[0mTextFileReader\u001b[0m\u001b[0;34m(\u001b[0m\u001b[0mfilepath_or_buffer\u001b[0m\u001b[0;34m,\u001b[0m \u001b[0;34m**\u001b[0m\u001b[0mkwds\u001b[0m\u001b[0;34m)\u001b[0m\u001b[0;34m\u001b[0m\u001b[0m\n\u001b[0m\u001b[1;32m    441\u001b[0m \u001b[0;34m\u001b[0m\u001b[0m\n\u001b[1;32m    442\u001b[0m     \u001b[0;32mif\u001b[0m \u001b[0mchunksize\u001b[0m \u001b[0;32mor\u001b[0m \u001b[0miterator\u001b[0m\u001b[0;34m:\u001b[0m\u001b[0;34m\u001b[0m\u001b[0m\n",
      "\u001b[0;32m~/anaconda3/lib/python3.6/site-packages/pandas/io/parsers.py\u001b[0m in \u001b[0;36m__init__\u001b[0;34m(self, f, engine, **kwds)\u001b[0m\n\u001b[1;32m    785\u001b[0m             \u001b[0mself\u001b[0m\u001b[0;34m.\u001b[0m\u001b[0moptions\u001b[0m\u001b[0;34m[\u001b[0m\u001b[0;34m'has_index_names'\u001b[0m\u001b[0;34m]\u001b[0m \u001b[0;34m=\u001b[0m \u001b[0mkwds\u001b[0m\u001b[0;34m[\u001b[0m\u001b[0;34m'has_index_names'\u001b[0m\u001b[0;34m]\u001b[0m\u001b[0;34m\u001b[0m\u001b[0m\n\u001b[1;32m    786\u001b[0m \u001b[0;34m\u001b[0m\u001b[0m\n\u001b[0;32m--> 787\u001b[0;31m         \u001b[0mself\u001b[0m\u001b[0;34m.\u001b[0m\u001b[0m_make_engine\u001b[0m\u001b[0;34m(\u001b[0m\u001b[0mself\u001b[0m\u001b[0;34m.\u001b[0m\u001b[0mengine\u001b[0m\u001b[0;34m)\u001b[0m\u001b[0;34m\u001b[0m\u001b[0m\n\u001b[0m\u001b[1;32m    788\u001b[0m \u001b[0;34m\u001b[0m\u001b[0m\n\u001b[1;32m    789\u001b[0m     \u001b[0;32mdef\u001b[0m \u001b[0mclose\u001b[0m\u001b[0;34m(\u001b[0m\u001b[0mself\u001b[0m\u001b[0;34m)\u001b[0m\u001b[0;34m:\u001b[0m\u001b[0;34m\u001b[0m\u001b[0m\n",
      "\u001b[0;32m~/anaconda3/lib/python3.6/site-packages/pandas/io/parsers.py\u001b[0m in \u001b[0;36m_make_engine\u001b[0;34m(self, engine)\u001b[0m\n\u001b[1;32m   1012\u001b[0m     \u001b[0;32mdef\u001b[0m \u001b[0m_make_engine\u001b[0m\u001b[0;34m(\u001b[0m\u001b[0mself\u001b[0m\u001b[0;34m,\u001b[0m \u001b[0mengine\u001b[0m\u001b[0;34m=\u001b[0m\u001b[0;34m'c'\u001b[0m\u001b[0;34m)\u001b[0m\u001b[0;34m:\u001b[0m\u001b[0;34m\u001b[0m\u001b[0m\n\u001b[1;32m   1013\u001b[0m         \u001b[0;32mif\u001b[0m \u001b[0mengine\u001b[0m \u001b[0;34m==\u001b[0m \u001b[0;34m'c'\u001b[0m\u001b[0;34m:\u001b[0m\u001b[0;34m\u001b[0m\u001b[0m\n\u001b[0;32m-> 1014\u001b[0;31m             \u001b[0mself\u001b[0m\u001b[0;34m.\u001b[0m\u001b[0m_engine\u001b[0m \u001b[0;34m=\u001b[0m \u001b[0mCParserWrapper\u001b[0m\u001b[0;34m(\u001b[0m\u001b[0mself\u001b[0m\u001b[0;34m.\u001b[0m\u001b[0mf\u001b[0m\u001b[0;34m,\u001b[0m \u001b[0;34m**\u001b[0m\u001b[0mself\u001b[0m\u001b[0;34m.\u001b[0m\u001b[0moptions\u001b[0m\u001b[0;34m)\u001b[0m\u001b[0;34m\u001b[0m\u001b[0m\n\u001b[0m\u001b[1;32m   1015\u001b[0m         \u001b[0;32melse\u001b[0m\u001b[0;34m:\u001b[0m\u001b[0;34m\u001b[0m\u001b[0m\n\u001b[1;32m   1016\u001b[0m             \u001b[0;32mif\u001b[0m \u001b[0mengine\u001b[0m \u001b[0;34m==\u001b[0m \u001b[0;34m'python'\u001b[0m\u001b[0;34m:\u001b[0m\u001b[0;34m\u001b[0m\u001b[0m\n",
      "\u001b[0;32m~/anaconda3/lib/python3.6/site-packages/pandas/io/parsers.py\u001b[0m in \u001b[0;36m__init__\u001b[0;34m(self, src, **kwds)\u001b[0m\n\u001b[1;32m   1706\u001b[0m         \u001b[0mkwds\u001b[0m\u001b[0;34m[\u001b[0m\u001b[0;34m'usecols'\u001b[0m\u001b[0;34m]\u001b[0m \u001b[0;34m=\u001b[0m \u001b[0mself\u001b[0m\u001b[0;34m.\u001b[0m\u001b[0musecols\u001b[0m\u001b[0;34m\u001b[0m\u001b[0m\n\u001b[1;32m   1707\u001b[0m \u001b[0;34m\u001b[0m\u001b[0m\n\u001b[0;32m-> 1708\u001b[0;31m         \u001b[0mself\u001b[0m\u001b[0;34m.\u001b[0m\u001b[0m_reader\u001b[0m \u001b[0;34m=\u001b[0m \u001b[0mparsers\u001b[0m\u001b[0;34m.\u001b[0m\u001b[0mTextReader\u001b[0m\u001b[0;34m(\u001b[0m\u001b[0msrc\u001b[0m\u001b[0;34m,\u001b[0m \u001b[0;34m**\u001b[0m\u001b[0mkwds\u001b[0m\u001b[0;34m)\u001b[0m\u001b[0;34m\u001b[0m\u001b[0m\n\u001b[0m\u001b[1;32m   1709\u001b[0m \u001b[0;34m\u001b[0m\u001b[0m\n\u001b[1;32m   1710\u001b[0m         \u001b[0mpassed_names\u001b[0m \u001b[0;34m=\u001b[0m \u001b[0mself\u001b[0m\u001b[0;34m.\u001b[0m\u001b[0mnames\u001b[0m \u001b[0;32mis\u001b[0m \u001b[0;32mNone\u001b[0m\u001b[0;34m\u001b[0m\u001b[0m\n",
      "\u001b[0;32mpandas/_libs/parsers.pyx\u001b[0m in \u001b[0;36mpandas._libs.parsers.TextReader.__cinit__\u001b[0;34m()\u001b[0m\n",
      "\u001b[0;32mpandas/_libs/parsers.pyx\u001b[0m in \u001b[0;36mpandas._libs.parsers.TextReader._setup_parser_source\u001b[0;34m()\u001b[0m\n",
      "\u001b[0;31mFileNotFoundError\u001b[0m: File b'data/insurance.csv' does not exist"
     ]
    }
   ],
   "source": [
    "df = pd.read_csv('data/insurance.csv')"
   ]
  },
  {
   "cell_type": "code",
   "execution_count": null,
   "metadata": {},
   "outputs": [],
   "source": [
    "df.head()"
   ]
  },
  {
   "cell_type": "code",
   "execution_count": null,
   "metadata": {},
   "outputs": [],
   "source": [
    "fig, ax = plt.subplots(figsize=(10,5))\n",
    "sns.countplot(x = 'region', data = df, palette = \"PiYG\", orient = 'h', ax = ax, edgecolor = '1')\n",
    "for i in ax.patches:\n",
    "    ax.text(i.get_x()+0.3,i.get_height()+3,str(round((i.get_height()/df.region.shape[0])*100))+'%',\\\n",
    "           fontsize = 12)\n",
    "ax.set_xlabel(\"Region\", fontsize = 13)\n",
    "ax.set_title(\"Region Distribution\", fontsize = 15)\n",
    "ax.tick_params(length=5,labelsize=12,labelcolor = 'black')\n",
    "x_axis = ax.axes.get_yaxis().set_visible(False)\n",
    "sns.despine(left= True)\n",
    "plt.show()"
   ]
  },
  {
   "cell_type": "code",
   "execution_count": null,
   "metadata": {},
   "outputs": [],
   "source": [
    "print(\"minimum age:\",df['age'].min())\n",
    "print(\"maximum age:\",df['age'].max())"
   ]
  },
  {
   "cell_type": "code",
   "execution_count": null,
   "metadata": {},
   "outputs": [],
   "source": [
    "# classify age into 3 groups\n",
    "# Young adult(18-25), Adult(26-50), Senior(51-64)\n",
    "# convert continious variable 'age' to categorical variable  \n",
    "\n",
    "cut_points = [17,25,50,64]\n",
    "labels = ['Young adult', 'Adult', 'Senior']\n",
    "df['age_category'] = pd.cut(df[\"age\"], cut_points, labels =  labels)\n",
    "set(list(df['age_category']))"
   ]
  },
  {
   "cell_type": "code",
   "execution_count": null,
   "metadata": {},
   "outputs": [],
   "source": [
    "#Age distribution by categories\n",
    "\n",
    "f, (ax,ax2) = plt.subplots(2,1,figsize = (8,10))\n",
    "sns.countplot(x = 'age_category',data = df, palette = 'Pastel2',orient = 'v',ax = ax, edgecolor = '1')\n",
    "for i in ax.patches:\n",
    "    ax.text(i.get_x()+0.3,i.get_height()+3,\\\n",
    "           str(round((i.get_height()/df.age_category.shape[0])*100))+'%',fontsize =12)\n",
    "ax.set_xlabel(\"Age Categories\",fontsize =13)\n",
    "ax.tick_params(length=5, labelsize = 12, labelcolor = 'black')\n",
    "ax.set_title(\"Age Distribution by Categories\",fontsize =15)\n",
    "\n",
    "ax2.hist('age',bins = 10,data = df, edgecolor = '0.1')\n",
    "ax2.set_xlabel(\"Age\",fontsize =13)\n",
    "ax2.tick_params(length=5, labelsize = 12, labelcolor = 'black')\n",
    "ax2.set_title(\"Age Distribution\",fontsize =15)\n",
    "x_axis = ax.axes.get_yaxis().set_visible(False)\n",
    "f.subplots_adjust(hspace = 0.5)\n",
    "sns.despine(left=True)\n",
    "plt.show()\n"
   ]
  },
  {
   "cell_type": "code",
   "execution_count": null,
   "metadata": {},
   "outputs": [],
   "source": [
    "def gender_dist_plot(x_axis,title):\n",
    "    f,ax = plt.subplots(figsize=(10,5))\n",
    "    sns.countplot(x=x_axis, data = df, ax = ax,palette=['dodgerblue','lightpink']\n",
    "                  ,hue='sex', hue_order=['male','female'] )\n",
    "\n",
    "    for i in ax.patches:\n",
    "        ax.text(i.get_x()+0.1, i.get_height()+3,\\\n",
    "                str(round((i.get_height()/df.region.shape[0])*100))+'%')\n",
    "    ax.set_title(title+ ' Distribution by Gender', fontsize = 15)\n",
    "    ax.set_xlabel(title, fontsize =12)\n",
    "    ax.tick_params(length=5, labelsize= 12, labelcolor = 'black')\n",
    "    x_axis = ax.axes.get_yaxis().set_visible(False)\n",
    "    ax.legend(loc=[1,0.8],fontsize = 12, title = \"Gender Type\",ncol=2)\n",
    "    sns.despine(left = True)\n",
    "    plt.show()\n",
    "\n",
    "gender_dist_plot(\"age_category\",'Age Category')"
   ]
  },
  {
   "cell_type": "code",
   "execution_count": null,
   "metadata": {},
   "outputs": [],
   "source": [
    "gender_dist_plot(\"region\",'Region')"
   ]
  },
  {
   "cell_type": "code",
   "execution_count": null,
   "metadata": {},
   "outputs": [],
   "source": [
    "f, ax = plt.subplots(figsize=(10,5))\n",
    "sns.countplot(x='region', data = df, ax = ax , hue = \"smoker\", palette=[\"C7\", \"C9\"])\n",
    "for i in ax.patches:\n",
    "    ax.text(i.get_x()+0.1, i.get_height()+3,\n",
    "               str(round((i.get_height()/df.region.shape[0])*100))+'%')\n",
    "ax.set_xlabel(\"Region\",fontsize=13)\n",
    "ax.set_title(\"Regional Distribution of Smokers\",fontsize =15)\n",
    "ax.tick_params(length =5, labelsize=12)\n",
    "xaxis = ax.axes.get_yaxis().set_visible(False)\n",
    "sns.despine(left = True)\n",
    "plt.show()"
   ]
  },
  {
   "cell_type": "code",
   "execution_count": null,
   "metadata": {},
   "outputs": [],
   "source": [
    "from scipy import stats\n",
    "from scipy.stats import norm, skew, kurtosis\n",
    "\n",
    "def data_transform(data,input):\n",
    "    f,(ax1,ax2,ax3) = plt.subplots(1,3,figsize=(8,8))\n",
    "    \n",
    "    sns.boxplot(x =input, data= data, ax = ax1, orient='v')\n",
    "    sns.distplot(data[input],ax = ax2, color = 'blue', hist = False)\n",
    "    res = stats.probplot(data[input], plot = ax3)\n",
    "    \n",
    "    axes = [ax1,ax2]\n",
    "    kwargs = {'fontsize':14,'color':'black'}\n",
    "    ax1.set_title(input+' Boxplot Analysis',**kwargs)\n",
    "    ax1.set_xlabel('Box',**kwargs)\n",
    "    ax1.set_ylabel('BMI Values',**kwargs)\n",
    "\n",
    "    ax2.set_title(input+' Distribution',**kwargs)\n",
    "    ax2.set_xlabel(input+' values',**kwargs)\n",
    "\n",
    "    ax3.set_title('Probability Plot',**kwargs)\n",
    "    ax3.set_xlabel('Theoretical Quantiles',**kwargs)\n",
    "    ax3.set_ylabel('Ordered Values',**kwargs)\n",
    "    f.subplots_adjust(wspace=0.22,right= 2)\n",
    "    sns.despine()\n",
    "    \n",
    "    return plt.show()\n",
    "\n",
    "    \n",
    "\n",
    "data_transform(df,'bmi')\n",
    "    "
   ]
  },
  {
   "cell_type": "markdown",
   "metadata": {},
   "source": [
    "# Categorize BMI value"
   ]
  },
  {
   "cell_type": "raw",
   "metadata": {},
   "source": [
    "Underweight if bmi value is between 14 - 18.99\n",
    "Normal if bmi value is btw 19 - 24.99\n",
    "Overweight if bmi value is btw 25 - 29.99\n",
    "Obese if bmi value is above 30"
   ]
  },
  {
   "cell_type": "code",
   "execution_count": null,
   "metadata": {
    "scrolled": true
   },
   "outputs": [],
   "source": [
    "cut_points = [14,19,25,30,65]\n",
    "label_names = ['Underweight',\"normal\",\"overweight\",\"obese\"]\n",
    "df[\"bmi_cat\"] = pd.cut(df['bmi'],cut_points,labels=label_names)\n",
    "gender_dist_plot('bmi_cat','BMI')"
   ]
  },
  {
   "cell_type": "markdown",
   "metadata": {
    "collapsed": true
   },
   "source": [
    "### Charges feature analysis"
   ]
  },
  {
   "cell_type": "code",
   "execution_count": null,
   "metadata": {},
   "outputs": [],
   "source": [
    "data_transform(df,'charges')"
   ]
  },
  {
   "cell_type": "raw",
   "metadata": {},
   "source": [
    "The Charges feature is not normally distributed.\n",
    "The feature is affected by outliers\n",
    "The distribution left skewed"
   ]
  },
  {
   "cell_type": "raw",
   "metadata": {},
   "source": [
    "To solve this problems natural Log transformation is performed on the Charges feature"
   ]
  },
  {
   "cell_type": "code",
   "execution_count": null,
   "metadata": {},
   "outputs": [],
   "source": [
    "df.charges = np.log1p(df.charges)\n",
    "data_transform(df,'charges')"
   ]
  },
  {
   "cell_type": "markdown",
   "metadata": {},
   "source": [
    "### Scatter Plot Analysis"
   ]
  },
  {
   "cell_type": "code",
   "execution_count": null,
   "metadata": {},
   "outputs": [],
   "source": [
    "sns.lmplot(x = \"bmi\", y= \"charges\", hue = \"smoker\",data = df, \n",
    "           size = 6, aspect = 1.3,\n",
    "          scatter_kws={\"s\": 50, \"alpha\": 1,'edgecolor':'black'}\n",
    "          ,fit_reg=True)\n",
    "plt.title('Scatterplot Analysis',fontsize=14)\n",
    "plt.xlabel('BMI',fontsize=12)\n",
    "plt.ylabel('Charge',fontsize=12)\n",
    "plt.show()"
   ]
  },
  {
   "cell_type": "raw",
   "metadata": {},
   "source": [
    "From the above Scatter plot\n",
    "\n",
    "1. The charges for smoker are higher than for non somkers in general\n",
    "2. For smokers, there is a linear relationship between BMI and charges.    With increase in BMI value Charges also increase.\n",
    "3. For Non-smokers, charges does not depend on the BMI value"
   ]
  },
  {
   "cell_type": "code",
   "execution_count": null,
   "metadata": {},
   "outputs": [],
   "source": [
    "plt.figure(figsize=(12,8))\n",
    "kwargs = {'fontsize':12,'color':'black'}\n",
    "sns.heatmap(df.corr(),annot=True,robust=True)\n",
    "plt.title('Correlation Analysis on the Dataset',**kwargs)\n",
    "plt.tick_params(length=3,labelsize=12,color='black')\n",
    "plt.yticks(rotation=0)\n",
    "plt.show()"
   ]
  },
  {
   "cell_type": "markdown",
   "metadata": {},
   "source": [
    "From the above Heatmap there is a strong correlation between age \n",
    "and charges. But from the correlation plot it is observed that there is \n",
    "correlation between age and bmi for smokers"
   ]
  },
  {
   "cell_type": "markdown",
   "metadata": {},
   "source": [
    "Dividing the dataset for smokers and non smokers"
   ]
  },
  {
   "cell_type": "markdown",
   "metadata": {},
   "source": [
    "### Smokers Dataset Analysis"
   ]
  },
  {
   "cell_type": "code",
   "execution_count": null,
   "metadata": {},
   "outputs": [],
   "source": [
    "df.drop(['age_category','bmi_cat'],axis=1,inplace=True)\n",
    "df_smoker = df[df.smoker=='yes']\n",
    "df_smoker.head()"
   ]
  },
  {
   "cell_type": "code",
   "execution_count": null,
   "metadata": {},
   "outputs": [],
   "source": [
    "#converts categorical to nummerical values\n",
    "df_smoker = pd.get_dummies(df_smoker,drop_first=True)\n",
    "df_smoker.head()"
   ]
  },
  {
   "cell_type": "code",
   "execution_count": null,
   "metadata": {},
   "outputs": [],
   "source": [
    "plt.figure(figsize=(12,8))\n",
    "kwargs = {'fontsize':12,'color':'black'}\n",
    "sns.heatmap(df_smoker.corr(),annot=True,robust=True)\n",
    "plt.title('Correlation Analysis for Smoker',**kwargs)\n",
    "plt.tick_params(length=3,labelsize=12,color='black')\n",
    "plt.yticks(rotation=0)\n",
    "plt.show()"
   ]
  },
  {
   "cell_type": "markdown",
   "metadata": {},
   "source": [
    "The heatmap shoes strong correlation between age, bmi and charges for smokers"
   ]
  },
  {
   "cell_type": "code",
   "execution_count": null,
   "metadata": {},
   "outputs": [],
   "source": [
    "df_smoker.drop(['children','sex_male', 'region_northwest',\n",
    "       'region_southeast', 'region_southwest'],axis=1,inplace=True)\n",
    "\n",
    "\n"
   ]
  },
  {
   "cell_type": "code",
   "execution_count": null,
   "metadata": {},
   "outputs": [],
   "source": [
    "sns.lmplot(x = 'bmi',y='charges',hue=None,data=df_smoker,size=6,aspect=1.5,\n",
    "           scatter_kws={\"s\": 70, \"alpha\": 1,'edgecolor':'black'},legend=False,fit_reg=True)\n",
    "plt.title('Scatterplot Analysis',fontsize=14)\n",
    "plt.xlabel('BMI',fontsize=12)\n",
    "plt.ylabel('Charge',fontsize=12)\n",
    "plt.show()"
   ]
  },
  {
   "cell_type": "markdown",
   "metadata": {},
   "source": [
    "## Multivariate Linear Regression Analysis for smoker"
   ]
  },
  {
   "cell_type": "code",
   "execution_count": null,
   "metadata": {},
   "outputs": [],
   "source": [
    "from sklearn.metrics import explained_variance_score,r2_score\n",
    "from sklearn.linear_model import LinearRegression\n",
    "from sklearn.model_selection import train_test_split\n",
    "from sklearn.metrics import mean_squared_error\n",
    "from sklearn.preprocessing import StandardScaler\n",
    "# import xgboost as xgb\n",
    "from sklearn.ensemble import RandomForestRegressor, GradientBoostingRegressor, ExtraTreesRegressor"
   ]
  },
  {
   "cell_type": "code",
   "execution_count": null,
   "metadata": {},
   "outputs": [],
   "source": [
    "X = df_smoker.drop('charges',axis=1)\n",
    "y = df_smoker['charges']\n",
    "X_train,X_test,y_train,y_test = train_test_split(X,y,test_size = 0.2)\n",
    "#Standardizing the values\n",
    "sc = StandardScaler()\n",
    "X_train = sc.fit_transform(X_train)\n",
    "X_test = sc.transform(X_test)\n",
    "model = LinearRegression()\n",
    "model.fit(X_train,y_train)\n",
    "y_pred = model.predict(X_test)\n",
    "print('Intercept: {:.4f} \\ncte1: {:.4f}\\ncte2: {:.4f}'\n",
    "      .format(model.intercept_,model.coef_[0],\n",
    "      model.coef_[1]))\n",
    "print('Model_Accuracy_Score (R Square): {:.4f} \\nLoss(RMSE): {:.4f}'\n",
    "      .format(r2_score(y_pred,y_test),\n",
    "    np.sqrt(mean_squared_error(y_pred,y_test))))"
   ]
  },
  {
   "cell_type": "markdown",
   "metadata": {},
   "source": [
    "#### Linear Regression visulaization for smokers"
   ]
  },
  {
   "cell_type": "code",
   "execution_count": null,
   "metadata": {},
   "outputs": [],
   "source": [
    "def model_scatter_plot(model):\n",
    "    title = str(model)\n",
    "    title = title.split('.')[3]\n",
    "    title = title.replace(\"'>\",'')\n",
    "    lreg = model()\n",
    "    lreg.fit(X_train,y_train)\n",
    "    y_pred = lreg.predict(X_test)\n",
    "    #model_table\n",
    "    model_table = pd.DataFrame(y_pred,y_test).reset_index()\n",
    "    model_table.columns=['y_test','y_pred']\n",
    "    #Model Graph\n",
    "    sns.lmplot(x = 'y_test',y='y_pred',data = model_table,size=6,aspect=1.5,\n",
    "           scatter_kws={\"s\": 70, \"alpha\": 1,'edgecolor':'black'},fit_reg=True)\n",
    "    plt.title(title +' Analysis',fontsize=14)\n",
    "    plt.xlabel('y_test',fontsize=12)\n",
    "    plt.ylabel('y_pred',fontsize=12)\n",
    "    #plt.scatter(y_test,y_pred)\n",
    "    return plt.show()\n",
    "\n",
    "model_scatter_plot(LinearRegression)"
   ]
  },
  {
   "cell_type": "markdown",
   "metadata": {},
   "source": [
    "#### Use the model"
   ]
  },
  {
   "cell_type": "code",
   "execution_count": null,
   "metadata": {},
   "outputs": [],
   "source": [
    "# how much would a person pay for insurance if he \n",
    "# is smoker with a specific and bmi value\n",
    "\n",
    "def use_model(age, bmi_value):\n",
    "    c = [[age,bmi_value]]\n",
    "    c = sc.transform(c)\n",
    "    charge_value = model.coef_[0]*(c[0][0]) + model.coef_[1]*(c[0][1]) + model.intercept_\n",
    "    charge_value = np.exp(charge_value)\n",
    "    x = ('The Insurrance Charges for a {:.1f} years old person who is a Smoker with an bmi = {:.1f} will be {:.4f}'.format(age,bmi_value,charge_value))\n",
    "    # we use the np.exp() because we transformed the value of charge during the charge EDA earlier above\n",
    "    return print(x)\n",
    "    \n",
    "    "
   ]
  },
  {
   "cell_type": "code",
   "execution_count": null,
   "metadata": {},
   "outputs": [],
   "source": [
    "#if you are a smoker of 23 yr old and bmi of 32 then what \n",
    "# insurrance would you be charged?\n",
    "use_model(24,40)\n",
    "\n"
   ]
  },
  {
   "cell_type": "code",
   "execution_count": null,
   "metadata": {},
   "outputs": [],
   "source": [
    "def robust_model(input):\n",
    "    #Model type to evaluate\n",
    "    model_list = [ExtraTreesRegressor(),RandomForestRegressor(),GradientBoostingRegressor(),\n",
    "            LinearRegression()]\n",
    "    r_score = []\n",
    "    loss = []\n",
    "    for reg in model_list:\n",
    "        reg.fit(X_train,y_train)\n",
    "        y_pred = reg.predict(X_test)\n",
    "        r_score.append(explained_variance_score(y_pred,y_test))\n",
    "        loss.append(np.sqrt(mean_squared_error(y_pred,y_test)))\n",
    "    ## Model score table\n",
    "    model_str = ['ExtraTrees','Random Forest','Gradient Boosting',\n",
    "            'Linear Regression']\n",
    "    other_model = pd.DataFrame(r_score,model_str).reset_index()\n",
    "    other_model.columns = ['Model','R(Square)']\n",
    "    other_model['loss'] = loss\n",
    "    other_model.sort_values('R(Square)',ascending=False,inplace=True)\n",
    "    ## Model Graph\n",
    "    ax = other_model[['R(Square)','loss']].plot(kind='bar',width=0.7,\n",
    "                            figsize=(15,7), color=['slategray', 'darkred'], fontsize=13,edgecolor='0.2')\n",
    "    for i in ax.patches:\n",
    "        # get_x pulls left or right; get_height pushes up or down\n",
    "        ax.text(i.get_x()+.1, i.get_height()+0.01, \\\n",
    "                str(round((i.get_height()), 3)), fontsize=12, color='black',)\n",
    "    ax.set_title('Regression Model Evaluation For '+input,fontsize=14,color='black')\n",
    "    ax.set_xticklabels(other_model.Model, rotation=0, fontsize=12)\n",
    "    ax.set_xlabel('Model',**kwargs)\n",
    "    x_axis = ax.axes.get_yaxis().set_visible(False)\n",
    "    sns.despine(left=True)\n",
    "    return plt.show()\n",
    "\n",
    "robust_model('Smoker')"
   ]
  },
  {
   "cell_type": "code",
   "execution_count": null,
   "metadata": {},
   "outputs": [],
   "source": [
    "# Let's visualize the test data vs. the predicted data\n",
    "model_scatter_plot(ExtraTreesRegressor)\n",
    "\n",
    "model_scatter_plot(GradientBoostingRegressor)\n",
    "\n",
    "model_scatter_plot(RandomForestRegressor)"
   ]
  },
  {
   "cell_type": "markdown",
   "metadata": {},
   "source": [
    "### Non_smoker Dataset analysis"
   ]
  },
  {
   "cell_type": "code",
   "execution_count": null,
   "metadata": {},
   "outputs": [],
   "source": [
    "df_non_smoker = df[df.smoker=='no']\n",
    "sns.lmplot(x = 'bmi',y='charges',hue=None,data=df_non_smoker,height=6,aspect=1.5,\n",
    "           scatter_kws={\"s\": 70, \"alpha\": 1,'edgecolor':'black'},legend=False,fit_reg=True)\n",
    "plt.title('Scatterplot Analysis',fontsize=14)\n",
    "plt.xlabel('BMI',fontsize=12)\n",
    "plt.ylabel('Charge',fontsize=12)\n",
    "plt.show()\n"
   ]
  },
  {
   "cell_type": "code",
   "execution_count": null,
   "metadata": {},
   "outputs": [],
   "source": [
    "# Convert all categorical columns in the dataset to Numerical for the Analysis\n",
    "df_non_smoker['children'] = df_non_smoker['children'].astype('category')\n",
    "df_non_smoker = pd.get_dummies(df_non_smoker,drop_first=True)\n",
    "#correlation Analysis\n",
    "plt.figure(figsize=(12,8))\n",
    "kwargs = {'fontsize':12,'color':'black'}\n",
    "sns.heatmap(df_non_smoker.corr(),annot=True,robust=True)\n",
    "plt.title('Correlation Analysis for Smoker',**kwargs)\n",
    "plt.tick_params(length=3,labelsize=12,color='black')\n",
    "plt.yticks(rotation=0)\n",
    "plt.show()\n"
   ]
  },
  {
   "cell_type": "raw",
   "metadata": {},
   "source": [
    "only age has strong correlation with charges"
   ]
  },
  {
   "cell_type": "code",
   "execution_count": null,
   "metadata": {},
   "outputs": [],
   "source": [
    "# Let plot the age vs. charge scatter plot to see the correlation between them\n",
    "sns.lmplot(x = 'age',y='charges',data=df_non_smoker,height=6,aspect=1.5,\n",
    "           scatter_kws={\"s\": 70, \"alpha\": 1,'edgecolor':'black'},legend=False,fit_reg=True)\n",
    "plt.title('Scatterplot Analysis',fontsize=14)\n",
    "plt.show()"
   ]
  },
  {
   "cell_type": "code",
   "execution_count": null,
   "metadata": {},
   "outputs": [],
   "source": []
  }
 ],
 "metadata": {
  "kernelspec": {
   "display_name": "Python 3",
   "language": "python",
   "name": "python3"
  },
  "language_info": {
   "codemirror_mode": {
    "name": "ipython",
    "version": 3
   },
   "file_extension": ".py",
   "mimetype": "text/x-python",
   "name": "python",
   "nbconvert_exporter": "python",
   "pygments_lexer": "ipython3",
   "version": "3.6.5"
  }
 },
 "nbformat": 4,
 "nbformat_minor": 2
}
