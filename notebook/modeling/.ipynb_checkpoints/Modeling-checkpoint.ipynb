{
 "cells": [
  {
   "cell_type": "markdown",
   "metadata": {},
   "source": [
    "## Multivariate Linear Regression Analysis for smoker"
   ]
  },
  {
   "cell_type": "code",
   "execution_count": 1,
   "metadata": {},
   "outputs": [],
   "source": [
    "import numpy as np\n",
    "import pandas as pd\n",
    "import matplotlib.pyplot as plt\n",
    "import seaborn as sns\n",
    "import pickle"
   ]
  },
  {
   "cell_type": "code",
   "execution_count": 2,
   "metadata": {},
   "outputs": [],
   "source": [
    "from sklearn.metrics import explained_variance_score,r2_score\n",
    "from sklearn.linear_model import LinearRegression\n",
    "from sklearn.model_selection import train_test_split\n",
    "from sklearn.metrics import mean_squared_error\n",
    "from sklearn.preprocessing import StandardScaler\n",
    "# import xgboost as xgb\n",
    "from sklearn.ensemble import RandomForestRegressor, GradientBoostingRegressor, ExtraTreesRegressor"
   ]
  },
  {
   "cell_type": "code",
   "execution_count": 4,
   "metadata": {},
   "outputs": [],
   "source": [
    "df_smoker = pd.read_csv('/Users/katari/Desktop/git/Medical_cost_dataset/src/data/processed/smoker_data.csv')\n"
   ]
  },
  {
   "cell_type": "code",
   "execution_count": 5,
   "metadata": {},
   "outputs": [
    {
     "data": {
      "text/html": [
       "<div>\n",
       "<style scoped>\n",
       "    .dataframe tbody tr th:only-of-type {\n",
       "        vertical-align: middle;\n",
       "    }\n",
       "\n",
       "    .dataframe tbody tr th {\n",
       "        vertical-align: top;\n",
       "    }\n",
       "\n",
       "    .dataframe thead th {\n",
       "        text-align: right;\n",
       "    }\n",
       "</style>\n",
       "<table border=\"1\" class=\"dataframe\">\n",
       "  <thead>\n",
       "    <tr style=\"text-align: right;\">\n",
       "      <th></th>\n",
       "      <th>age</th>\n",
       "      <th>bmi</th>\n",
       "      <th>children</th>\n",
       "      <th>charges</th>\n",
       "      <th>sex_male</th>\n",
       "      <th>region_northwest</th>\n",
       "      <th>region_southeast</th>\n",
       "      <th>region_southwest</th>\n",
       "    </tr>\n",
       "  </thead>\n",
       "  <tbody>\n",
       "    <tr>\n",
       "      <th>0</th>\n",
       "      <td>19</td>\n",
       "      <td>27.90</td>\n",
       "      <td>0</td>\n",
       "      <td>16884.9240</td>\n",
       "      <td>0</td>\n",
       "      <td>0</td>\n",
       "      <td>0</td>\n",
       "      <td>1</td>\n",
       "    </tr>\n",
       "    <tr>\n",
       "      <th>1</th>\n",
       "      <td>62</td>\n",
       "      <td>26.29</td>\n",
       "      <td>0</td>\n",
       "      <td>27808.7251</td>\n",
       "      <td>0</td>\n",
       "      <td>0</td>\n",
       "      <td>1</td>\n",
       "      <td>0</td>\n",
       "    </tr>\n",
       "    <tr>\n",
       "      <th>2</th>\n",
       "      <td>27</td>\n",
       "      <td>42.13</td>\n",
       "      <td>0</td>\n",
       "      <td>39611.7577</td>\n",
       "      <td>1</td>\n",
       "      <td>0</td>\n",
       "      <td>1</td>\n",
       "      <td>0</td>\n",
       "    </tr>\n",
       "    <tr>\n",
       "      <th>3</th>\n",
       "      <td>30</td>\n",
       "      <td>35.30</td>\n",
       "      <td>0</td>\n",
       "      <td>36837.4670</td>\n",
       "      <td>1</td>\n",
       "      <td>0</td>\n",
       "      <td>0</td>\n",
       "      <td>1</td>\n",
       "    </tr>\n",
       "    <tr>\n",
       "      <th>4</th>\n",
       "      <td>34</td>\n",
       "      <td>31.92</td>\n",
       "      <td>1</td>\n",
       "      <td>37701.8768</td>\n",
       "      <td>0</td>\n",
       "      <td>0</td>\n",
       "      <td>0</td>\n",
       "      <td>0</td>\n",
       "    </tr>\n",
       "  </tbody>\n",
       "</table>\n",
       "</div>"
      ],
      "text/plain": [
       "   age    bmi  children     charges  sex_male  region_northwest  \\\n",
       "0   19  27.90         0  16884.9240         0                 0   \n",
       "1   62  26.29         0  27808.7251         0                 0   \n",
       "2   27  42.13         0  39611.7577         1                 0   \n",
       "3   30  35.30         0  36837.4670         1                 0   \n",
       "4   34  31.92         1  37701.8768         0                 0   \n",
       "\n",
       "   region_southeast  region_southwest  \n",
       "0                 0                 1  \n",
       "1                 1                 0  \n",
       "2                 1                 0  \n",
       "3                 0                 1  \n",
       "4                 0                 0  "
      ]
     },
     "execution_count": 5,
     "metadata": {},
     "output_type": "execute_result"
    }
   ],
   "source": [
    "df_smoker = pd.get_dummies(df_smoker,drop_first=True)\n",
    "df_smoker=df_smoker.drop('Unnamed: 0', axis=1)\n",
    "df_smoker.head()"
   ]
  },
  {
   "cell_type": "code",
   "execution_count": 6,
   "metadata": {},
   "outputs": [],
   "source": [
    "df_smoker.drop(['children','sex_male', 'region_northwest',\n",
    "       'region_southeast', 'region_southwest'],axis=1,inplace=True)"
   ]
  },
  {
   "cell_type": "code",
   "execution_count": 7,
   "metadata": {},
   "outputs": [
    {
     "name": "stdout",
     "output_type": "stream",
     "text": [
      "Intercept: 31248.1671 \n",
      "cte1: 3865.9365\n",
      "cte2: 9071.6223\n",
      "Model_Accuracy_Score (R Square): 0.6344 \n",
      "Loss(RMSE): 6092.4263\n"
     ]
    }
   ],
   "source": [
    "X = df_smoker.drop('charges',axis=1)\n",
    "y = df_smoker['charges']\n",
    "X_train,X_test,y_train,y_test = train_test_split(X,y,test_size = 0.2)\n",
    "#Standardizing the values\n",
    "sc = StandardScaler()\n",
    "X_train = sc.fit_transform(X_train)\n",
    "X_test = sc.transform(X_test)\n",
    "model = LinearRegression()\n",
    "model.fit(X_train,y_train)\n",
    "y_pred = model.predict(X_test)\n",
    "print('Intercept: {:.4f} \\ncte1: {:.4f}\\ncte2: {:.4f}'\n",
    "      .format(model.intercept_,model.coef_[0],\n",
    "      model.coef_[1]))\n",
    "print('Model_Accuracy_Score (R Square): {:.4f} \\nLoss(RMSE): {:.4f}'\n",
    "      .format(r2_score(y_pred,y_test),\n",
    "    np.sqrt(mean_squared_error(y_pred,y_test))))"
   ]
  },
  {
   "cell_type": "code",
   "execution_count": 8,
   "metadata": {},
   "outputs": [],
   "source": [
    "filename = 'finalized_model.sav'\n",
    "pickle.dump(model, open(filename, 'wb'))"
   ]
  },
  {
   "cell_type": "markdown",
   "metadata": {},
   "source": [
    "#### Linear Regression visulaization for smokers"
   ]
  },
  {
   "cell_type": "code",
   "execution_count": 9,
   "metadata": {},
   "outputs": [
    {
     "data": {
      "image/png": "[encoded data removed]",
      "text/plain": [
       "<Figure size 648x432 with 1 Axes>"
      ]
     },
     "metadata": {},
     "output_type": "display_data"
    }
   ],
   "source": [
    "def model_scatter_plot(model):\n",
    "    title = str(model)\n",
    "    title = title.split('.')[3]\n",
    "    title = title.replace(\"'>\",'')\n",
    "    lreg = model()\n",
    "    lreg.fit(X_train,y_train)\n",
    "    y_pred = lreg.predict(X_test)\n",
    "    #model_table\n",
    "    model_table = pd.DataFrame(y_pred,y_test).reset_index()\n",
    "    model_table.columns=['y_test','y_pred']\n",
    "    #Model Graph\n",
    "    sns.lmplot(x = 'y_test',y='y_pred',data = model_table,size=6,aspect=1.5,\n",
    "           scatter_kws={\"s\": 70, \"alpha\": 1,'edgecolor':'black'},fit_reg=True)\n",
    "    plt.title(title +' Analysis',fontsize=14)\n",
    "    plt.xlabel('y_test',fontsize=12)\n",
    "    plt.ylabel('y_pred',fontsize=12)\n",
    "    #plt.scatter(y_test,y_pred)\n",
    "    return plt.show()\n",
    "\n",
    "model_scatter_plot(LinearRegression)"
   ]
  },
  {
   "cell_type": "markdown",
   "metadata": {},
   "source": [
    "#### Use the model"
   ]
  },
  {
   "cell_type": "code",
   "execution_count": null,
   "metadata": {},
   "outputs": [],
   "source": [
    "# how much would a person pay for insurance if he \n",
    "# is smoker with a specific and bmi value\n",
    "\n",
    "def use_model(age, bmi_value):\n",
    "    c = [[age,bmi_value]]\n",
    "    c = sc.transform(c)\n",
    "    charge_value = model.coef_[0]*(c[0][0]) + model.coef_[1]*(c[0][1]) + model.intercept_\n",
    "    charge_value = np.exp(charge_value)\n",
    "    x = ('The Insurrance Charges for a {:.1f} years old person who is a Smoker with an bmi = {:.1f} will be {:.4f}'.format(age,bmi_value,charge_value))\n",
    "    # we use the np.exp() because we transformed the value of charge during the charge EDA earlier above\n",
    "    return print(x)\n",
    "    \n",
    "    "
   ]
  },
  {
   "cell_type": "code",
   "execution_count": null,
   "metadata": {},
   "outputs": [],
   "source": [
    "#if you are a smoker of 23 yr old and bmi of 32 then what \n",
    "# insurrance would you be charged?\n",
    "use_model(24,40)\n"
   ]
  },
  {
   "cell_type": "code",
   "execution_count": null,
   "metadata": {},
   "outputs": [],
   "source": [
    "def robust_model(input):\n",
    "    #Model type to evaluate\n",
    "    model_list = [ExtraTreesRegressor(),RandomForestRegressor(),GradientBoostingRegressor(),\n",
    "            LinearRegression()]\n",
    "    r_score = []\n",
    "    loss = []\n",
    "    for reg in model_list:\n",
    "        reg.fit(X_train,y_train)\n",
    "        y_pred = reg.predict(X_test)\n",
    "        r_score.append(explained_variance_score(y_pred,y_test))\n",
    "        loss.append(np.sqrt(mean_squared_error(y_pred,y_test)))\n",
    "    ## Model score table\n",
    "    model_str = ['ExtraTrees','Random Forest','Gradient Boosting',\n",
    "            'Linear Regression']\n",
    "    other_model = pd.DataFrame(r_score,model_str).reset_index()\n",
    "    other_model.columns = ['Model','R(Square)']\n",
    "    other_model['loss'] = loss\n",
    "    other_model.sort_values('R(Square)',ascending=False,inplace=True)\n",
    "    ## Model Graph\n",
    "    ax = other_model[['R(Square)','loss']].plot(kind='bar',width=0.7,\n",
    "                            figsize=(15,7), color=['slategray', 'darkred'], fontsize=13,edgecolor='0.2')\n",
    "    for i in ax.patches:\n",
    "        # get_x pulls left or right; get_height pushes up or down\n",
    "        ax.text(i.get_x()+.1, i.get_height()+0.01, \\\n",
    "                str(round((i.get_height()), 3)), fontsize=12, color='black',)\n",
    "    ax.set_title('Regression Model Evaluation For '+input,fontsize=14,color='black')\n",
    "    ax.set_xticklabels(other_model.Model, rotation=0, fontsize=12)\n",
    "    ax.set_xlabel('Model')\n",
    "    x_axis = ax.axes.get_yaxis().set_visible(False)\n",
    "    sns.despine(left=True)\n",
    "    return plt.show()\n",
    "\n",
    "robust_model('Smoker')"
   ]
  },
  {
   "cell_type": "code",
   "execution_count": null,
   "metadata": {},
   "outputs": [],
   "source": [
    "# Let's visualize the test data vs. the predicted data\n",
    "model_scatter_plot(ExtraTreesRegressor)\n",
    "\n",
    "model_scatter_plot(GradientBoostingRegressor)\n",
    "\n",
    "model_scatter_plot(RandomForestRegressor)"
   ]
  },
  {
   "cell_type": "code",
   "execution_count": null,
   "metadata": {},
   "outputs": [],
   "source": []
  }
 ],
 "metadata": {
  "kernelspec": {
   "display_name": "Python 3",
   "language": "python",
   "name": "python3"
  },
  "language_info": {
   "codemirror_mode": {
    "name": "ipython",
    "version": 3
   },
   "file_extension": ".py",
   "mimetype": "text/x-python",
   "name": "python",
   "nbconvert_exporter": "python",
   "pygments_lexer": "ipython3",
   "version": "3.6.5"
  }
 },
 "nbformat": 4,
 "nbformat_minor": 2
}
